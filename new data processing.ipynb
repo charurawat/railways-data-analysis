{
 "cells": [
  {
   "cell_type": "markdown",
   "metadata": {},
   "source": [
    "### Railways FRA Data Analysis \n",
    "#### (DS 6001 - Final Pipeline)"
   ]
  },
  {
   "cell_type": "code",
   "execution_count": 1,
   "metadata": {},
   "outputs": [],
   "source": [
    "import sqlite3\n",
    "import pandas as pd\n",
    "import numpy as np\n",
    "%matplotlib inline"
   ]
  },
  {
   "cell_type": "code",
   "execution_count": 2,
   "metadata": {},
   "outputs": [],
   "source": [
    "conn = sqlite3.connect(\"fra.db\")"
   ]
  },
  {
   "cell_type": "code",
   "execution_count": 3,
   "metadata": {},
   "outputs": [],
   "source": [
    "df = pd.read_sql('SELECT * FROM inc', conn, index_col='index')"
   ]
  },
  {
   "cell_type": "code",
   "execution_count": 4,
   "metadata": {},
   "outputs": [],
   "source": [
    "new_data = pd.read_csv('fra_newdata.csv', index_col=False, header = 0)"
   ]
  },
  {
   "cell_type": "code",
   "execution_count": 5,
   "metadata": {},
   "outputs": [
    {
     "data": {
      "text/plain": [
       "2018"
      ]
     },
     "execution_count": 5,
     "metadata": {},
     "output_type": "execute_result"
    }
   ],
   "source": [
    "max_year = max(df.YEAR4)\n",
    "max_year"
   ]
  },
  {
   "cell_type": "code",
   "execution_count": 6,
   "metadata": {},
   "outputs": [
    {
     "data": {
      "text/plain": [
       "7"
      ]
     },
     "execution_count": 6,
     "metadata": {},
     "output_type": "execute_result"
    }
   ],
   "source": [
    "max_month = max(df['MONTH'].loc[df['YEAR4'] == max_year])\n",
    "max_month"
   ]
  },
  {
   "cell_type": "code",
   "execution_count": 7,
   "metadata": {},
   "outputs": [
    {
     "data": {
      "text/plain": [
       "31"
      ]
     },
     "execution_count": 7,
     "metadata": {},
     "output_type": "execute_result"
    }
   ],
   "source": [
    "df2 = df.loc[df['YEAR4'] == max_year]\n",
    "max_day = max(df2['DAY'].loc[df2['MONTH'] == max_month])\n",
    "max_day"
   ]
  },
  {
   "cell_type": "markdown",
   "metadata": {},
   "source": [
    "Will subset data 1 August 2018 onwards."
   ]
  },
  {
   "cell_type": "code",
   "execution_count": 8,
   "metadata": {},
   "outputs": [
    {
     "data": {
      "text/html": [
       "<div>\n",
       "<style scoped>\n",
       "    .dataframe tbody tr th:only-of-type {\n",
       "        vertical-align: middle;\n",
       "    }\n",
       "\n",
       "    .dataframe tbody tr th {\n",
       "        vertical-align: top;\n",
       "    }\n",
       "\n",
       "    .dataframe thead th {\n",
       "        text-align: right;\n",
       "    }\n",
       "</style>\n",
       "<table border=\"1\" class=\"dataframe\">\n",
       "  <thead>\n",
       "    <tr style=\"text-align: right;\">\n",
       "      <th></th>\n",
       "      <th>IYR</th>\n",
       "      <th>IMO</th>\n",
       "      <th>RAILROAD</th>\n",
       "      <th>INCDTNO</th>\n",
       "      <th>IYR2</th>\n",
       "      <th>IMO2</th>\n",
       "      <th>RR2</th>\n",
       "      <th>INCDTNO2</th>\n",
       "      <th>IYR3</th>\n",
       "      <th>IMO3</th>\n",
       "      <th>...</th>\n",
       "      <th>NARR15</th>\n",
       "      <th>RCL</th>\n",
       "      <th>Latitude</th>\n",
       "      <th>Longitud</th>\n",
       "      <th>SIGNAL</th>\n",
       "      <th>MOPERA</th>\n",
       "      <th>ADJUNCT1</th>\n",
       "      <th>ADJUNCT2</th>\n",
       "      <th>ADJUNCT3</th>\n",
       "      <th>SUBDIV</th>\n",
       "    </tr>\n",
       "  </thead>\n",
       "  <tbody>\n",
       "    <tr>\n",
       "      <th>21</th>\n",
       "      <td>18</td>\n",
       "      <td>8</td>\n",
       "      <td>KCS</td>\n",
       "      <td>18082502</td>\n",
       "      <td>NaN</td>\n",
       "      <td>NaN</td>\n",
       "      <td>NaN</td>\n",
       "      <td>NaN</td>\n",
       "      <td>18</td>\n",
       "      <td>8</td>\n",
       "      <td>...</td>\n",
       "      <td>NaN</td>\n",
       "      <td>0.0</td>\n",
       "      <td>32.541800</td>\n",
       "      <td>-93.844812</td>\n",
       "      <td>1</td>\n",
       "      <td>5</td>\n",
       "      <td>Z</td>\n",
       "      <td>NaN</td>\n",
       "      <td>NaN</td>\n",
       "      <td>SHREVEPORT TERMINAL</td>\n",
       "    </tr>\n",
       "    <tr>\n",
       "      <th>23</th>\n",
       "      <td>18</td>\n",
       "      <td>9</td>\n",
       "      <td>IC</td>\n",
       "      <td>973922</td>\n",
       "      <td>18.0</td>\n",
       "      <td>9.0</td>\n",
       "      <td>XCVT</td>\n",
       "      <td>INDUSTRY</td>\n",
       "      <td>18</td>\n",
       "      <td>9</td>\n",
       "      <td>...</td>\n",
       "      <td>NaN</td>\n",
       "      <td>0.0</td>\n",
       "      <td>30.052928</td>\n",
       "      <td>-90.831935</td>\n",
       "      <td>1</td>\n",
       "      <td>2</td>\n",
       "      <td>D</td>\n",
       "      <td>J</td>\n",
       "      <td>P</td>\n",
       "      <td>BATON ROUGE</td>\n",
       "    </tr>\n",
       "    <tr>\n",
       "      <th>24</th>\n",
       "      <td>18</td>\n",
       "      <td>9</td>\n",
       "      <td>UP</td>\n",
       "      <td>0918LV014</td>\n",
       "      <td>NaN</td>\n",
       "      <td>NaN</td>\n",
       "      <td>NaN</td>\n",
       "      <td>NaN</td>\n",
       "      <td>18</td>\n",
       "      <td>9</td>\n",
       "      <td>...</td>\n",
       "      <td>NaN</td>\n",
       "      <td>0.0</td>\n",
       "      <td>30.525485</td>\n",
       "      <td>-91.555759</td>\n",
       "      <td>2</td>\n",
       "      <td>5</td>\n",
       "      <td>K</td>\n",
       "      <td>NaN</td>\n",
       "      <td>NaN</td>\n",
       "      <td>LIVONIA SUB</td>\n",
       "    </tr>\n",
       "    <tr>\n",
       "      <th>25</th>\n",
       "      <td>18</td>\n",
       "      <td>8</td>\n",
       "      <td>UP</td>\n",
       "      <td>0818LV002</td>\n",
       "      <td>NaN</td>\n",
       "      <td>NaN</td>\n",
       "      <td>NaN</td>\n",
       "      <td>NaN</td>\n",
       "      <td>18</td>\n",
       "      <td>8</td>\n",
       "      <td>...</td>\n",
       "      <td>NaN</td>\n",
       "      <td>0.0</td>\n",
       "      <td>30.330582</td>\n",
       "      <td>-91.240827</td>\n",
       "      <td>2</td>\n",
       "      <td>5</td>\n",
       "      <td>K</td>\n",
       "      <td>NaN</td>\n",
       "      <td>NaN</td>\n",
       "      <td>LIVONIA SUB</td>\n",
       "    </tr>\n",
       "    <tr>\n",
       "      <th>26</th>\n",
       "      <td>18</td>\n",
       "      <td>8</td>\n",
       "      <td>UP</td>\n",
       "      <td>0818LV007</td>\n",
       "      <td>NaN</td>\n",
       "      <td>NaN</td>\n",
       "      <td>NaN</td>\n",
       "      <td>NaN</td>\n",
       "      <td>18</td>\n",
       "      <td>8</td>\n",
       "      <td>...</td>\n",
       "      <td>NaN</td>\n",
       "      <td>0.0</td>\n",
       "      <td>29.918621</td>\n",
       "      <td>-90.208067</td>\n",
       "      <td>2</td>\n",
       "      <td>5</td>\n",
       "      <td>K</td>\n",
       "      <td>NaN</td>\n",
       "      <td>NaN</td>\n",
       "      <td>LIVONIA SUB</td>\n",
       "    </tr>\n",
       "  </tbody>\n",
       "</table>\n",
       "<p>5 rows × 145 columns</p>\n",
       "</div>"
      ],
      "text/plain": [
       "    IYR  IMO RAILROAD    INCDTNO  IYR2  IMO2   RR2  INCDTNO2  IYR3  IMO3  \\\n",
       "21   18    8      KCS   18082502   NaN   NaN   NaN       NaN    18     8   \n",
       "23   18    9       IC     973922  18.0   9.0  XCVT  INDUSTRY    18     9   \n",
       "24   18    9       UP  0918LV014   NaN   NaN   NaN       NaN    18     9   \n",
       "25   18    8       UP  0818LV002   NaN   NaN   NaN       NaN    18     8   \n",
       "26   18    8       UP  0818LV007   NaN   NaN   NaN       NaN    18     8   \n",
       "\n",
       "           ...          NARR15  RCL   Latitude   Longitud  SIGNAL  MOPERA  \\\n",
       "21         ...             NaN  0.0  32.541800 -93.844812       1       5   \n",
       "23         ...             NaN  0.0  30.052928 -90.831935       1       2   \n",
       "24         ...             NaN  0.0  30.525485 -91.555759       2       5   \n",
       "25         ...             NaN  0.0  30.330582 -91.240827       2       5   \n",
       "26         ...             NaN  0.0  29.918621 -90.208067       2       5   \n",
       "\n",
       "    ADJUNCT1  ADJUNCT2  ADJUNCT3               SUBDIV  \n",
       "21         Z       NaN       NaN  SHREVEPORT TERMINAL  \n",
       "23         D         J         P          BATON ROUGE  \n",
       "24         K       NaN       NaN          LIVONIA SUB  \n",
       "25         K       NaN       NaN          LIVONIA SUB  \n",
       "26         K       NaN       NaN          LIVONIA SUB  \n",
       "\n",
       "[5 rows x 145 columns]"
      ]
     },
     "execution_count": 8,
     "metadata": {},
     "output_type": "execute_result"
    }
   ],
   "source": [
    "df2 = new_data.loc[new_data['YEAR4'] >= max_year]\n",
    "df2 = df2[df2['MONTH'] > max_month]\n",
    "df2.head()"
   ]
  },
  {
   "cell_type": "markdown",
   "metadata": {},
   "source": [
    "### Operation 1 \n",
    "Download new data from the FRA site ( ), import it into Pandas, grab only the new observations ( ), and append\n",
    "these to ."
   ]
  },
  {
   "cell_type": "code",
   "execution_count": 9,
   "metadata": {},
   "outputs": [],
   "source": [
    "df = pd.concat([df, df2])"
   ]
  },
  {
   "cell_type": "code",
   "execution_count": 10,
   "metadata": {},
   "outputs": [
    {
     "data": {
      "text/plain": [
       "(205216, 145)"
      ]
     },
     "execution_count": 10,
     "metadata": {},
     "output_type": "execute_result"
    }
   ],
   "source": [
    "df.shape"
   ]
  },
  {
   "cell_type": "markdown",
   "metadata": {},
   "source": [
    "### Operation 2\n",
    "Clean and append data"
   ]
  },
  {
   "cell_type": "code",
   "execution_count": 11,
   "metadata": {},
   "outputs": [
    {
     "data": {
      "text/plain": [
       "(386, 145)"
      ]
     },
     "execution_count": 11,
     "metadata": {},
     "output_type": "execute_result"
    }
   ],
   "source": [
    "df = df2\n",
    "df.shape"
   ]
  },
  {
   "cell_type": "markdown",
   "metadata": {},
   "source": [
    "### 1) Replacing numeric values of TYPE with their descriptive names."
   ]
  },
  {
   "cell_type": "code",
   "execution_count": 12,
   "metadata": {},
   "outputs": [
    {
     "data": {
      "text/plain": [
       "1     240\n",
       "12     47\n",
       "7      31\n",
       "9      22\n",
       "13     19\n",
       "4       9\n",
       "3       7\n",
       "11      6\n",
       "5       3\n",
       "6       2\n",
       "Name: TYPE, dtype: int64"
      ]
     },
     "execution_count": 12,
     "metadata": {},
     "output_type": "execute_result"
    }
   ],
   "source": [
    "df['TYPE'].value_counts()"
   ]
  },
  {
   "cell_type": "code",
   "execution_count": 13,
   "metadata": {},
   "outputs": [],
   "source": [
    "# converting TYPE column to categorical\n",
    "df['TYPE'] = df['TYPE'].astype('category')\n",
    "\n",
    "# assigning new categories\n",
    "df['TYPE'].cat.categories = ['Derailment', 'Rear end collision', 'Side collision', 'Raking collision', 'Broken train collision', 'Hwy-rail crossing', 'Obstruction', 'Fire/violent rupture', 'Other impacts', 'Other']"
   ]
  },
  {
   "cell_type": "markdown",
   "metadata": {},
   "source": [
    "### 2) Replacing numeric values of TYPEQ with their descriptive names."
   ]
  },
  {
   "cell_type": "code",
   "execution_count": 14,
   "metadata": {},
   "outputs": [],
   "source": [
    "# filling missing values with '0'\n",
    "df['TYPEQ'] = df['TYPEQ'].fillna('0')\n",
    "\n",
    "# treat 1.0 similar to 1 and 2.0 to 2 etc.\n",
    "df['TYPEQ'] = df['TYPEQ'].apply(lambda x: x[0])\n",
    "\n",
    "# converting to type categorical\n",
    "df['TYPEQ'] = df['TYPEQ'].astype('category')\n",
    "df['TYPEQ'].cat.categories = ['Missing', 'Freight Train', 'Passenger Train-Pulling', 'Commuter Train-Pulling', 'Work train', 'Single Car', 'Cut of cars', 'Yard/switching', 'Light loco(s)', 'Maint./inspect. Car', 'Spec. MoW Equip.', 'Commuter Train-Pushing', 'EMU']"
   ]
  },
  {
   "cell_type": "markdown",
   "metadata": {},
   "source": [
    "### 3) Replacing CAUSE with first letter of code."
   ]
  },
  {
   "cell_type": "code",
   "execution_count": 15,
   "metadata": {},
   "outputs": [
    {
     "data": {
      "text/plain": [
       "21    E\n",
       "23    M\n",
       "24    M\n",
       "25    T\n",
       "26    H\n",
       "Name: CAUSE, dtype: object"
      ]
     },
     "execution_count": 15,
     "metadata": {},
     "output_type": "execute_result"
    }
   ],
   "source": [
    "df['CAUSE'] = df['CAUSE'].apply(lambda x: x[0])\n",
    "df.CAUSE.head()"
   ]
  },
  {
   "cell_type": "markdown",
   "metadata": {},
   "source": [
    "### 4) Imputing missing values in TYPEQ. "
   ]
  },
  {
   "cell_type": "code",
   "execution_count": 16,
   "metadata": {},
   "outputs": [],
   "source": [
    "# converting missing category back to NaN\n",
    "df.loc[df['TYPEQ'] == 'Missing', 'TYPEQ'] = np.nan\n",
    "\n",
    "# imputing missing values using mode since TYPEQ is categorical variable\n",
    "df['TYPEQ'] = df['TYPEQ'].fillna(df['TYPEQ'].mode()[0])"
   ]
  },
  {
   "cell_type": "markdown",
   "metadata": {},
   "source": [
    "### 5) Joining narratives."
   ]
  },
  {
   "cell_type": "code",
   "execution_count": 17,
   "metadata": {},
   "outputs": [],
   "source": [
    "# get all columns with NARR\n",
    "narrative_columns = []\n",
    "for i in range(1, 16):\n",
    "    narrative_columns.append('NARR' + str(i))\n",
    "    \n",
    "# impute missing values by an empty string\n",
    "df[narrative_columns] = df[narrative_columns].fillna('')\n",
    "  \n",
    "# concatenate all NARR columns into one single Narrative column\n",
    "df['Narrative'] = ''\n",
    "for column in narrative_columns:\n",
    "    df['Narrative'] = df['Narrative'] + df[column]\n",
    "    \n",
    "# Dropping the older narrative columns  \n",
    "df = df.drop(columns = narrative_columns)"
   ]
  },
  {
   "cell_type": "code",
   "execution_count": 18,
   "metadata": {},
   "outputs": [
    {
     "data": {
      "text/html": [
       "<div>\n",
       "<style scoped>\n",
       "    .dataframe tbody tr th:only-of-type {\n",
       "        vertical-align: middle;\n",
       "    }\n",
       "\n",
       "    .dataframe tbody tr th {\n",
       "        vertical-align: top;\n",
       "    }\n",
       "\n",
       "    .dataframe thead th {\n",
       "        text-align: right;\n",
       "    }\n",
       "</style>\n",
       "<table border=\"1\" class=\"dataframe\">\n",
       "  <thead>\n",
       "    <tr style=\"text-align: right;\">\n",
       "      <th></th>\n",
       "      <th>IYR</th>\n",
       "      <th>IMO</th>\n",
       "      <th>RAILROAD</th>\n",
       "      <th>INCDTNO</th>\n",
       "      <th>IYR2</th>\n",
       "      <th>IMO2</th>\n",
       "      <th>RR2</th>\n",
       "      <th>INCDTNO2</th>\n",
       "      <th>IYR3</th>\n",
       "      <th>IMO3</th>\n",
       "      <th>...</th>\n",
       "      <th>RCL</th>\n",
       "      <th>Latitude</th>\n",
       "      <th>Longitud</th>\n",
       "      <th>SIGNAL</th>\n",
       "      <th>MOPERA</th>\n",
       "      <th>ADJUNCT1</th>\n",
       "      <th>ADJUNCT2</th>\n",
       "      <th>ADJUNCT3</th>\n",
       "      <th>SUBDIV</th>\n",
       "      <th>Narrative</th>\n",
       "    </tr>\n",
       "  </thead>\n",
       "  <tbody>\n",
       "    <tr>\n",
       "      <th>21</th>\n",
       "      <td>18</td>\n",
       "      <td>8</td>\n",
       "      <td>KCS</td>\n",
       "      <td>18082502</td>\n",
       "      <td>NaN</td>\n",
       "      <td>NaN</td>\n",
       "      <td>NaN</td>\n",
       "      <td>NaN</td>\n",
       "      <td>18</td>\n",
       "      <td>8</td>\n",
       "      <td>...</td>\n",
       "      <td>0.0</td>\n",
       "      <td>32.541800</td>\n",
       "      <td>-93.844812</td>\n",
       "      <td>1</td>\n",
       "      <td>5</td>\n",
       "      <td>Z</td>\n",
       "      <td>NaN</td>\n",
       "      <td>NaN</td>\n",
       "      <td>SHREVEPORT TERMINAL</td>\n",
       "      <td>STARTED MOVEMENT IN THE NORTH TRACK &amp; ENGINE D...</td>\n",
       "    </tr>\n",
       "    <tr>\n",
       "      <th>23</th>\n",
       "      <td>18</td>\n",
       "      <td>9</td>\n",
       "      <td>IC</td>\n",
       "      <td>973922</td>\n",
       "      <td>18.0</td>\n",
       "      <td>9.0</td>\n",
       "      <td>XCVT</td>\n",
       "      <td>INDUSTRY</td>\n",
       "      <td>18</td>\n",
       "      <td>9</td>\n",
       "      <td>...</td>\n",
       "      <td>0.0</td>\n",
       "      <td>30.052928</td>\n",
       "      <td>-90.831935</td>\n",
       "      <td>1</td>\n",
       "      <td>2</td>\n",
       "      <td>D</td>\n",
       "      <td>J</td>\n",
       "      <td>P</td>\n",
       "      <td>BATON ROUGE</td>\n",
       "      <td>CONVENT MARINE TERMINAL EMPLOYEES WERE IN THE ...</td>\n",
       "    </tr>\n",
       "    <tr>\n",
       "      <th>24</th>\n",
       "      <td>18</td>\n",
       "      <td>9</td>\n",
       "      <td>UP</td>\n",
       "      <td>0918LV014</td>\n",
       "      <td>NaN</td>\n",
       "      <td>NaN</td>\n",
       "      <td>NaN</td>\n",
       "      <td>NaN</td>\n",
       "      <td>18</td>\n",
       "      <td>9</td>\n",
       "      <td>...</td>\n",
       "      <td>0.0</td>\n",
       "      <td>30.525485</td>\n",
       "      <td>-91.555759</td>\n",
       "      <td>2</td>\n",
       "      <td>5</td>\n",
       "      <td>K</td>\n",
       "      <td>NaN</td>\n",
       "      <td>NaN</td>\n",
       "      <td>LIVONIA SUB</td>\n",
       "      <td>LLM20R-21 FOUND CARS CRDX290017, CRDX290344 &amp; ...</td>\n",
       "    </tr>\n",
       "    <tr>\n",
       "      <th>25</th>\n",
       "      <td>18</td>\n",
       "      <td>8</td>\n",
       "      <td>UP</td>\n",
       "      <td>0818LV002</td>\n",
       "      <td>NaN</td>\n",
       "      <td>NaN</td>\n",
       "      <td>NaN</td>\n",
       "      <td>NaN</td>\n",
       "      <td>18</td>\n",
       "      <td>8</td>\n",
       "      <td>...</td>\n",
       "      <td>0.0</td>\n",
       "      <td>30.330582</td>\n",
       "      <td>-91.240827</td>\n",
       "      <td>2</td>\n",
       "      <td>5</td>\n",
       "      <td>K</td>\n",
       "      <td>NaN</td>\n",
       "      <td>NaN</td>\n",
       "      <td>LIVONIA SUB</td>\n",
       "      <td>THE LLL43B WAS EXITING THE GATE AT DOW AND THE...</td>\n",
       "    </tr>\n",
       "    <tr>\n",
       "      <th>26</th>\n",
       "      <td>18</td>\n",
       "      <td>8</td>\n",
       "      <td>UP</td>\n",
       "      <td>0818LV007</td>\n",
       "      <td>NaN</td>\n",
       "      <td>NaN</td>\n",
       "      <td>NaN</td>\n",
       "      <td>NaN</td>\n",
       "      <td>18</td>\n",
       "      <td>8</td>\n",
       "      <td>...</td>\n",
       "      <td>0.0</td>\n",
       "      <td>29.918621</td>\n",
       "      <td>-90.208067</td>\n",
       "      <td>2</td>\n",
       "      <td>5</td>\n",
       "      <td>K</td>\n",
       "      <td>NaN</td>\n",
       "      <td>NaN</td>\n",
       "      <td>LIVONIA SUB</td>\n",
       "      <td>THE YAV52-03 RAN THROUGH THE EAST END OF CROSS...</td>\n",
       "    </tr>\n",
       "  </tbody>\n",
       "</table>\n",
       "<p>5 rows × 131 columns</p>\n",
       "</div>"
      ],
      "text/plain": [
       "    IYR  IMO RAILROAD    INCDTNO  IYR2  IMO2   RR2  INCDTNO2  IYR3  IMO3  \\\n",
       "21   18    8      KCS   18082502   NaN   NaN   NaN       NaN    18     8   \n",
       "23   18    9       IC     973922  18.0   9.0  XCVT  INDUSTRY    18     9   \n",
       "24   18    9       UP  0918LV014   NaN   NaN   NaN       NaN    18     9   \n",
       "25   18    8       UP  0818LV002   NaN   NaN   NaN       NaN    18     8   \n",
       "26   18    8       UP  0818LV007   NaN   NaN   NaN       NaN    18     8   \n",
       "\n",
       "                          ...                          RCL   Latitude  \\\n",
       "21                        ...                          0.0  32.541800   \n",
       "23                        ...                          0.0  30.052928   \n",
       "24                        ...                          0.0  30.525485   \n",
       "25                        ...                          0.0  30.330582   \n",
       "26                        ...                          0.0  29.918621   \n",
       "\n",
       "     Longitud SIGNAL  MOPERA  ADJUNCT1  ADJUNCT2  ADJUNCT3  \\\n",
       "21 -93.844812      1       5         Z       NaN       NaN   \n",
       "23 -90.831935      1       2         D         J         P   \n",
       "24 -91.555759      2       5         K       NaN       NaN   \n",
       "25 -91.240827      2       5         K       NaN       NaN   \n",
       "26 -90.208067      2       5         K       NaN       NaN   \n",
       "\n",
       "                 SUBDIV                                          Narrative  \n",
       "21  SHREVEPORT TERMINAL  STARTED MOVEMENT IN THE NORTH TRACK & ENGINE D...  \n",
       "23          BATON ROUGE  CONVENT MARINE TERMINAL EMPLOYEES WERE IN THE ...  \n",
       "24          LIVONIA SUB  LLM20R-21 FOUND CARS CRDX290017, CRDX290344 & ...  \n",
       "25          LIVONIA SUB  THE LLL43B WAS EXITING THE GATE AT DOW AND THE...  \n",
       "26          LIVONIA SUB  THE YAV52-03 RAN THROUGH THE EAST END OF CROSS...  \n",
       "\n",
       "[5 rows x 131 columns]"
      ]
     },
     "execution_count": 18,
     "metadata": {},
     "output_type": "execute_result"
    }
   ],
   "source": [
    "df.head()"
   ]
  },
  {
   "cell_type": "markdown",
   "metadata": {},
   "source": [
    "### 6) Dropping duplicates."
   ]
  },
  {
   "cell_type": "code",
   "execution_count": 19,
   "metadata": {},
   "outputs": [
    {
     "data": {
      "text/plain": [
       "(324, 131)"
      ]
     },
     "execution_count": 19,
     "metadata": {},
     "output_type": "execute_result"
    }
   ],
   "source": [
    "#Dropping duplicates based on JOINTCD\n",
    "df = df[df['JOINTCD'] == 1]\n",
    "df = df.drop_duplicates(keep='first')\n",
    "df.shape"
   ]
  },
  {
   "cell_type": "markdown",
   "metadata": {},
   "source": [
    "### 7) Correcting for time value of money."
   ]
  },
  {
   "cell_type": "code",
   "execution_count": 20,
   "metadata": {},
   "outputs": [
    {
     "data": {
      "text/html": [
       "<div>\n",
       "<style scoped>\n",
       "    .dataframe tbody tr th:only-of-type {\n",
       "        vertical-align: middle;\n",
       "    }\n",
       "\n",
       "    .dataframe tbody tr th {\n",
       "        vertical-align: top;\n",
       "    }\n",
       "\n",
       "    .dataframe thead th {\n",
       "        text-align: right;\n",
       "    }\n",
       "</style>\n",
       "<table border=\"1\" class=\"dataframe\">\n",
       "  <thead>\n",
       "    <tr style=\"text-align: right;\">\n",
       "      <th></th>\n",
       "      <th>month</th>\n",
       "      <th>year</th>\n",
       "      <th>cpi</th>\n",
       "      <th>inflation</th>\n",
       "    </tr>\n",
       "  </thead>\n",
       "  <tbody>\n",
       "    <tr>\n",
       "      <th>0</th>\n",
       "      <td>1</td>\n",
       "      <td>1975</td>\n",
       "      <td>52.1</td>\n",
       "      <td>4.853839</td>\n",
       "    </tr>\n",
       "    <tr>\n",
       "      <th>1</th>\n",
       "      <td>1</td>\n",
       "      <td>1976</td>\n",
       "      <td>55.6</td>\n",
       "      <td>4.548291</td>\n",
       "    </tr>\n",
       "    <tr>\n",
       "      <th>2</th>\n",
       "      <td>1</td>\n",
       "      <td>1977</td>\n",
       "      <td>58.5</td>\n",
       "      <td>4.322821</td>\n",
       "    </tr>\n",
       "    <tr>\n",
       "      <th>3</th>\n",
       "      <td>1</td>\n",
       "      <td>1978</td>\n",
       "      <td>62.5</td>\n",
       "      <td>4.046160</td>\n",
       "    </tr>\n",
       "    <tr>\n",
       "      <th>4</th>\n",
       "      <td>1</td>\n",
       "      <td>1979</td>\n",
       "      <td>68.3</td>\n",
       "      <td>3.702562</td>\n",
       "    </tr>\n",
       "  </tbody>\n",
       "</table>\n",
       "</div>"
      ],
      "text/plain": [
       "   month  year   cpi  inflation\n",
       "0      1  1975  52.1   4.853839\n",
       "1      1  1976  55.6   4.548291\n",
       "2      1  1977  58.5   4.322821\n",
       "3      1  1978  62.5   4.046160\n",
       "4      1  1979  68.3   3.702562"
      ]
     },
     "execution_count": 20,
     "metadata": {},
     "output_type": "execute_result"
    }
   ],
   "source": [
    "df_cpi = pd.read_csv('cpi.csv')\n",
    "df_cpi.month = df_cpi.month\n",
    "df_cpi.year = df_cpi.year\n",
    "df_cpi['inflation'] = 252.885/df_cpi['cpi']\n",
    "df_cpi.head()"
   ]
  },
  {
   "cell_type": "code",
   "execution_count": 21,
   "metadata": {},
   "outputs": [],
   "source": [
    "#Renaming columns\n",
    "df_cpi.columns = ['MONTH', 'YEAR4', 'cpi', 'inflation']"
   ]
  },
  {
   "cell_type": "code",
   "execution_count": 22,
   "metadata": {},
   "outputs": [],
   "source": [
    "merged_df = pd.merge(left = df, right = df_cpi, how = 'inner', left_on=['MONTH', 'YEAR4'], right_on = ['MONTH', 'YEAR4'])"
   ]
  },
  {
   "cell_type": "code",
   "execution_count": 23,
   "metadata": {
    "scrolled": true
   },
   "outputs": [
    {
     "data": {
      "text/html": [
       "<div>\n",
       "<style scoped>\n",
       "    .dataframe tbody tr th:only-of-type {\n",
       "        vertical-align: middle;\n",
       "    }\n",
       "\n",
       "    .dataframe tbody tr th {\n",
       "        vertical-align: top;\n",
       "    }\n",
       "\n",
       "    .dataframe thead th {\n",
       "        text-align: right;\n",
       "    }\n",
       "</style>\n",
       "<table border=\"1\" class=\"dataframe\">\n",
       "  <thead>\n",
       "    <tr style=\"text-align: right;\">\n",
       "      <th></th>\n",
       "      <th>IYR</th>\n",
       "      <th>IMO</th>\n",
       "      <th>RAILROAD</th>\n",
       "      <th>INCDTNO</th>\n",
       "      <th>IYR2</th>\n",
       "      <th>IMO2</th>\n",
       "      <th>RR2</th>\n",
       "      <th>INCDTNO2</th>\n",
       "      <th>IYR3</th>\n",
       "      <th>IMO3</th>\n",
       "      <th>...</th>\n",
       "      <th>Longitud</th>\n",
       "      <th>SIGNAL</th>\n",
       "      <th>MOPERA</th>\n",
       "      <th>ADJUNCT1</th>\n",
       "      <th>ADJUNCT2</th>\n",
       "      <th>ADJUNCT3</th>\n",
       "      <th>SUBDIV</th>\n",
       "      <th>Narrative</th>\n",
       "      <th>cpi</th>\n",
       "      <th>inflation</th>\n",
       "    </tr>\n",
       "  </thead>\n",
       "  <tbody>\n",
       "    <tr>\n",
       "      <th>0</th>\n",
       "      <td>18</td>\n",
       "      <td>8</td>\n",
       "      <td>KCS</td>\n",
       "      <td>18082502</td>\n",
       "      <td>NaN</td>\n",
       "      <td>NaN</td>\n",
       "      <td>NaN</td>\n",
       "      <td>NaN</td>\n",
       "      <td>18</td>\n",
       "      <td>8</td>\n",
       "      <td>...</td>\n",
       "      <td>-93.844812</td>\n",
       "      <td>1</td>\n",
       "      <td>5</td>\n",
       "      <td>Z</td>\n",
       "      <td>NaN</td>\n",
       "      <td>NaN</td>\n",
       "      <td>SHREVEPORT TERMINAL</td>\n",
       "      <td>STARTED MOVEMENT IN THE NORTH TRACK &amp; ENGINE D...</td>\n",
       "      <td>252.146</td>\n",
       "      <td>1.002931</td>\n",
       "    </tr>\n",
       "    <tr>\n",
       "      <th>1</th>\n",
       "      <td>18</td>\n",
       "      <td>8</td>\n",
       "      <td>UP</td>\n",
       "      <td>0818LV002</td>\n",
       "      <td>NaN</td>\n",
       "      <td>NaN</td>\n",
       "      <td>NaN</td>\n",
       "      <td>NaN</td>\n",
       "      <td>18</td>\n",
       "      <td>8</td>\n",
       "      <td>...</td>\n",
       "      <td>-91.240827</td>\n",
       "      <td>2</td>\n",
       "      <td>5</td>\n",
       "      <td>K</td>\n",
       "      <td>NaN</td>\n",
       "      <td>NaN</td>\n",
       "      <td>LIVONIA SUB</td>\n",
       "      <td>THE LLL43B WAS EXITING THE GATE AT DOW AND THE...</td>\n",
       "      <td>252.146</td>\n",
       "      <td>1.002931</td>\n",
       "    </tr>\n",
       "    <tr>\n",
       "      <th>2</th>\n",
       "      <td>18</td>\n",
       "      <td>8</td>\n",
       "      <td>UP</td>\n",
       "      <td>0818LV007</td>\n",
       "      <td>NaN</td>\n",
       "      <td>NaN</td>\n",
       "      <td>NaN</td>\n",
       "      <td>NaN</td>\n",
       "      <td>18</td>\n",
       "      <td>8</td>\n",
       "      <td>...</td>\n",
       "      <td>-90.208067</td>\n",
       "      <td>2</td>\n",
       "      <td>5</td>\n",
       "      <td>K</td>\n",
       "      <td>NaN</td>\n",
       "      <td>NaN</td>\n",
       "      <td>LIVONIA SUB</td>\n",
       "      <td>THE YAV52-03 RAN THROUGH THE EAST END OF CROSS...</td>\n",
       "      <td>252.146</td>\n",
       "      <td>1.002931</td>\n",
       "    </tr>\n",
       "    <tr>\n",
       "      <th>3</th>\n",
       "      <td>18</td>\n",
       "      <td>8</td>\n",
       "      <td>BNSF</td>\n",
       "      <td>PR0818110</td>\n",
       "      <td>NaN</td>\n",
       "      <td>NaN</td>\n",
       "      <td>NaN</td>\n",
       "      <td>NaN</td>\n",
       "      <td>18</td>\n",
       "      <td>8</td>\n",
       "      <td>...</td>\n",
       "      <td>-104.624736</td>\n",
       "      <td>2</td>\n",
       "      <td>5</td>\n",
       "      <td>K</td>\n",
       "      <td>NaN</td>\n",
       "      <td>NaN</td>\n",
       "      <td>PIKES PEAK</td>\n",
       "      <td>RCO Y-PUE3022-30 HAD 3 RAILCARS DERAIL AND IMP...</td>\n",
       "      <td>252.146</td>\n",
       "      <td>1.002931</td>\n",
       "    </tr>\n",
       "    <tr>\n",
       "      <th>4</th>\n",
       "      <td>18</td>\n",
       "      <td>8</td>\n",
       "      <td>UP</td>\n",
       "      <td>0818DV013</td>\n",
       "      <td>NaN</td>\n",
       "      <td>NaN</td>\n",
       "      <td>NaN</td>\n",
       "      <td>NaN</td>\n",
       "      <td>18</td>\n",
       "      <td>8</td>\n",
       "      <td>...</td>\n",
       "      <td>-104.816089</td>\n",
       "      <td>1</td>\n",
       "      <td>1</td>\n",
       "      <td>Q</td>\n",
       "      <td>NaN</td>\n",
       "      <td>NaN</td>\n",
       "      <td>GREELEY SUB</td>\n",
       "      <td>MCYDV-24, LEAD LOCOMOTIVE UP8902, STRUCK A TRA...</td>\n",
       "      <td>252.146</td>\n",
       "      <td>1.002931</td>\n",
       "    </tr>\n",
       "  </tbody>\n",
       "</table>\n",
       "<p>5 rows × 133 columns</p>\n",
       "</div>"
      ],
      "text/plain": [
       "   IYR  IMO RAILROAD    INCDTNO  IYR2  IMO2  RR2 INCDTNO2  IYR3  IMO3  \\\n",
       "0   18    8      KCS   18082502   NaN   NaN  NaN      NaN    18     8   \n",
       "1   18    8       UP  0818LV002   NaN   NaN  NaN      NaN    18     8   \n",
       "2   18    8       UP  0818LV007   NaN   NaN  NaN      NaN    18     8   \n",
       "3   18    8     BNSF  PR0818110   NaN   NaN  NaN      NaN    18     8   \n",
       "4   18    8       UP  0818DV013   NaN   NaN  NaN      NaN    18     8   \n",
       "\n",
       "     ...       Longitud SIGNAL  MOPERA ADJUNCT1  ADJUNCT2  ADJUNCT3  \\\n",
       "0    ...     -93.844812      1       5        Z       NaN       NaN   \n",
       "1    ...     -91.240827      2       5        K       NaN       NaN   \n",
       "2    ...     -90.208067      2       5        K       NaN       NaN   \n",
       "3    ...    -104.624736      2       5        K       NaN       NaN   \n",
       "4    ...    -104.816089      1       1        Q       NaN       NaN   \n",
       "\n",
       "                SUBDIV                                          Narrative  \\\n",
       "0  SHREVEPORT TERMINAL  STARTED MOVEMENT IN THE NORTH TRACK & ENGINE D...   \n",
       "1          LIVONIA SUB  THE LLL43B WAS EXITING THE GATE AT DOW AND THE...   \n",
       "2          LIVONIA SUB  THE YAV52-03 RAN THROUGH THE EAST END OF CROSS...   \n",
       "3           PIKES PEAK  RCO Y-PUE3022-30 HAD 3 RAILCARS DERAIL AND IMP...   \n",
       "4          GREELEY SUB  MCYDV-24, LEAD LOCOMOTIVE UP8902, STRUCK A TRA...   \n",
       "\n",
       "       cpi inflation  \n",
       "0  252.146  1.002931  \n",
       "1  252.146  1.002931  \n",
       "2  252.146  1.002931  \n",
       "3  252.146  1.002931  \n",
       "4  252.146  1.002931  \n",
       "\n",
       "[5 rows x 133 columns]"
      ]
     },
     "execution_count": 23,
     "metadata": {},
     "output_type": "execute_result"
    }
   ],
   "source": [
    "merged_df.head()"
   ]
  },
  {
   "cell_type": "code",
   "execution_count": 24,
   "metadata": {},
   "outputs": [],
   "source": [
    "merged_df['Adj_ACCDMG'] = merged_df['ACCDMG'] * merged_df['inflation']"
   ]
  },
  {
   "cell_type": "code",
   "execution_count": 25,
   "metadata": {},
   "outputs": [
    {
     "data": {
      "text/html": [
       "<div>\n",
       "<style scoped>\n",
       "    .dataframe tbody tr th:only-of-type {\n",
       "        vertical-align: middle;\n",
       "    }\n",
       "\n",
       "    .dataframe tbody tr th {\n",
       "        vertical-align: top;\n",
       "    }\n",
       "\n",
       "    .dataframe thead th {\n",
       "        text-align: right;\n",
       "    }\n",
       "</style>\n",
       "<table border=\"1\" class=\"dataframe\">\n",
       "  <thead>\n",
       "    <tr style=\"text-align: right;\">\n",
       "      <th></th>\n",
       "      <th>ACCDMG</th>\n",
       "      <th>Adj_ACCDMG</th>\n",
       "    </tr>\n",
       "  </thead>\n",
       "  <tbody>\n",
       "    <tr>\n",
       "      <th>319</th>\n",
       "      <td>1569161</td>\n",
       "      <td>1.571933e+06</td>\n",
       "    </tr>\n",
       "    <tr>\n",
       "      <th>320</th>\n",
       "      <td>43450</td>\n",
       "      <td>4.352677e+04</td>\n",
       "    </tr>\n",
       "    <tr>\n",
       "      <th>321</th>\n",
       "      <td>941187</td>\n",
       "      <td>9.428499e+05</td>\n",
       "    </tr>\n",
       "    <tr>\n",
       "      <th>322</th>\n",
       "      <td>12870</td>\n",
       "      <td>1.289274e+04</td>\n",
       "    </tr>\n",
       "    <tr>\n",
       "      <th>323</th>\n",
       "      <td>27600</td>\n",
       "      <td>2.764876e+04</td>\n",
       "    </tr>\n",
       "  </tbody>\n",
       "</table>\n",
       "</div>"
      ],
      "text/plain": [
       "      ACCDMG    Adj_ACCDMG\n",
       "319  1569161  1.571933e+06\n",
       "320    43450  4.352677e+04\n",
       "321   941187  9.428499e+05\n",
       "322    12870  1.289274e+04\n",
       "323    27600  2.764876e+04"
      ]
     },
     "execution_count": 25,
     "metadata": {},
     "output_type": "execute_result"
    }
   ],
   "source": [
    "merged_df[['ACCDMG', 'Adj_ACCDMG']].tail()"
   ]
  },
  {
   "cell_type": "markdown",
   "metadata": {},
   "source": [
    "#### Store in a table"
   ]
  },
  {
   "cell_type": "code",
   "execution_count": 26,
   "metadata": {},
   "outputs": [],
   "source": [
    "merged_df.to_sql('df_clean', conn, if_exists='append', index=True)"
   ]
  },
  {
   "cell_type": "code",
   "execution_count": 27,
   "metadata": {},
   "outputs": [],
   "source": [
    "conn.close()"
   ]
  },
  {
   "cell_type": "code",
   "execution_count": null,
   "metadata": {},
   "outputs": [],
   "source": []
  }
 ],
 "metadata": {
  "kernelspec": {
   "display_name": "Python 3",
   "language": "python",
   "name": "python3"
  },
  "language_info": {
   "codemirror_mode": {
    "name": "ipython",
    "version": 3
   },
   "file_extension": ".py",
   "mimetype": "text/x-python",
   "name": "python",
   "nbconvert_exporter": "python",
   "pygments_lexer": "ipython3",
   "version": "3.6.5"
  }
 },
 "nbformat": 4,
 "nbformat_minor": 2
}
